{
 "cells": [
  {
   "cell_type": "code",
   "execution_count": 1,
   "id": "7c9b0f72",
   "metadata": {},
   "outputs": [
    {
     "name": "stdout",
     "output_type": "stream",
     "text": [
      "Requirement already satisfied: yfinance in d:\\python_programs\\myenvimport\\lib\\site-packages (0.2.65)\n",
      "Requirement already satisfied: pandas in d:\\python_programs\\myenvimport\\lib\\site-packages (2.3.2)\n",
      "Requirement already satisfied: pyyaml in d:\\python_programs\\myenvimport\\lib\\site-packages (6.0.2)\n",
      "Requirement already satisfied: nsepy in d:\\python_programs\\myenvimport\\lib\\site-packages (0.8)\n",
      "Requirement already satisfied: yahoofinancials in d:\\python_programs\\myenvimport\\lib\\site-packages (1.20)\n",
      "Requirement already satisfied: matplotlib in d:\\python_programs\\myenvimport\\lib\\site-packages (3.10.6)\n",
      "Requirement already satisfied: seaborn in d:\\python_programs\\myenvimport\\lib\\site-packages (0.13.2)\n",
      "Requirement already satisfied: scipy in d:\\python_programs\\myenvimport\\lib\\site-packages (1.16.1)\n",
      "Requirement already satisfied: sqlalchemy in d:\\python_programs\\myenvimport\\lib\\site-packages (2.0.43)\n",
      "Requirement already satisfied: mysql-connector-python in d:\\python_programs\\myenvimport\\lib\\site-packages (9.4.0)\n",
      "Requirement already satisfied: numpy>=1.16.5 in d:\\python_programs\\myenvimport\\lib\\site-packages (from yfinance) (2.3.2)\n",
      "Requirement already satisfied: requests>=2.31 in d:\\python_programs\\myenvimport\\lib\\site-packages (from yfinance) (2.32.5)\n",
      "Requirement already satisfied: multitasking>=0.0.7 in d:\\python_programs\\myenvimport\\lib\\site-packages (from yfinance) (0.0.12)\n",
      "Requirement already satisfied: platformdirs>=2.0.0 in d:\\python_programs\\myenvimport\\lib\\site-packages (from yfinance) (4.3.8)\n",
      "Requirement already satisfied: pytz>=2022.5 in d:\\python_programs\\myenvimport\\lib\\site-packages (from yfinance) (2025.2)\n",
      "Requirement already satisfied: frozendict>=2.3.4 in d:\\python_programs\\myenvimport\\lib\\site-packages (from yfinance) (2.4.6)\n",
      "Requirement already satisfied: peewee>=3.16.2 in d:\\python_programs\\myenvimport\\lib\\site-packages (from yfinance) (3.18.2)\n",
      "Requirement already satisfied: beautifulsoup4>=4.11.1 in d:\\python_programs\\myenvimport\\lib\\site-packages (from yfinance) (4.13.5)\n",
      "Requirement already satisfied: curl_cffi>=0.7 in d:\\python_programs\\myenvimport\\lib\\site-packages (from yfinance) (0.13.0)\n",
      "Requirement already satisfied: protobuf>=3.19.0 in d:\\python_programs\\myenvimport\\lib\\site-packages (from yfinance) (6.32.0)\n",
      "Requirement already satisfied: websockets>=13.0 in d:\\python_programs\\myenvimport\\lib\\site-packages (from yfinance) (15.0.1)\n",
      "Requirement already satisfied: python-dateutil>=2.8.2 in d:\\python_programs\\myenvimport\\lib\\site-packages (from pandas) (2.9.0.post0)\n",
      "Requirement already satisfied: tzdata>=2022.7 in d:\\python_programs\\myenvimport\\lib\\site-packages (from pandas) (2025.2)\n",
      "Requirement already satisfied: six in d:\\python_programs\\myenvimport\\lib\\site-packages (from nsepy) (1.17.0)\n",
      "Requirement already satisfied: click in d:\\python_programs\\myenvimport\\lib\\site-packages (from nsepy) (8.2.1)\n",
      "Requirement already satisfied: lxml in d:\\python_programs\\myenvimport\\lib\\site-packages (from nsepy) (6.0.1)\n",
      "Requirement already satisfied: appdirs>=1.4.4 in d:\\python_programs\\myenvimport\\lib\\site-packages (from yahoofinancials) (1.4.4)\n",
      "Requirement already satisfied: contourpy>=1.0.1 in d:\\python_programs\\myenvimport\\lib\\site-packages (from matplotlib) (1.3.3)\n",
      "Requirement already satisfied: cycler>=0.10 in d:\\python_programs\\myenvimport\\lib\\site-packages (from matplotlib) (0.12.1)\n",
      "Requirement already satisfied: fonttools>=4.22.0 in d:\\python_programs\\myenvimport\\lib\\site-packages (from matplotlib) (4.59.2)\n",
      "Requirement already satisfied: kiwisolver>=1.3.1 in d:\\python_programs\\myenvimport\\lib\\site-packages (from matplotlib) (1.4.9)\n",
      "Requirement already satisfied: packaging>=20.0 in d:\\python_programs\\myenvimport\\lib\\site-packages (from matplotlib) (25.0)\n",
      "Requirement already satisfied: pillow>=8 in d:\\python_programs\\myenvimport\\lib\\site-packages (from matplotlib) (11.3.0)\n",
      "Requirement already satisfied: pyparsing>=2.3.1 in d:\\python_programs\\myenvimport\\lib\\site-packages (from matplotlib) (3.2.3)\n",
      "Requirement already satisfied: greenlet>=1 in d:\\python_programs\\myenvimport\\lib\\site-packages (from sqlalchemy) (3.2.4)\n",
      "Requirement already satisfied: typing-extensions>=4.6.0 in d:\\python_programs\\myenvimport\\lib\\site-packages (from sqlalchemy) (4.15.0)\n",
      "Requirement already satisfied: soupsieve>1.2 in d:\\python_programs\\myenvimport\\lib\\site-packages (from beautifulsoup4>=4.11.1->yfinance) (2.8)\n",
      "Requirement already satisfied: cffi>=1.12.0 in d:\\python_programs\\myenvimport\\lib\\site-packages (from curl_cffi>=0.7->yfinance) (2.0.0)\n",
      "Requirement already satisfied: certifi>=2024.2.2 in d:\\python_programs\\myenvimport\\lib\\site-packages (from curl_cffi>=0.7->yfinance) (2025.8.3)\n",
      "Requirement already satisfied: pycparser in d:\\python_programs\\myenvimport\\lib\\site-packages (from cffi>=1.12.0->curl_cffi>=0.7->yfinance) (2.22)\n",
      "Requirement already satisfied: charset_normalizer<4,>=2 in d:\\python_programs\\myenvimport\\lib\\site-packages (from requests>=2.31->yfinance) (3.4.3)\n",
      "Requirement already satisfied: idna<4,>=2.5 in d:\\python_programs\\myenvimport\\lib\\site-packages (from requests>=2.31->yfinance) (3.10)\n",
      "Requirement already satisfied: urllib3<3,>=1.21.1 in d:\\python_programs\\myenvimport\\lib\\site-packages (from requests>=2.31->yfinance) (2.5.0)\n",
      "Requirement already satisfied: colorama in d:\\python_programs\\myenvimport\\lib\\site-packages (from click->nsepy) (0.4.6)\n"
     ]
    }
   ],
   "source": [
    "!pip install yfinance pandas pyyaml nsepy yahoofinancials matplotlib seaborn scipy sqlalchemy mysql-connector-python"
   ]
  },
  {
   "cell_type": "code",
   "execution_count": 2,
   "id": "37f9a3fa",
   "metadata": {},
   "outputs": [],
   "source": [
    "# Step 1: Import necessary libraries\n",
    "import pandas as pd\n",
    "import numpy as np\n",
    "import os\n",
    "from datetime import datetime\n",
    "import matplotlib.pyplot as plt\n",
    "import seaborn as sns"
   ]
  },
  {
   "cell_type": "code",
   "execution_count": 3,
   "id": "a68cfd30",
   "metadata": {},
   "outputs": [
    {
     "name": "stdout",
     "output_type": "stream",
     "text": [
      "Dataset Shape: (12300, 8)\n",
      "\n",
      "First 5 rows:\n"
     ]
    },
    {
     "data": {
      "text/html": [
       "<div>\n",
       "<style scoped>\n",
       "    .dataframe tbody tr th:only-of-type {\n",
       "        vertical-align: middle;\n",
       "    }\n",
       "\n",
       "    .dataframe tbody tr th {\n",
       "        vertical-align: top;\n",
       "    }\n",
       "\n",
       "    .dataframe thead th {\n",
       "        text-align: right;\n",
       "    }\n",
       "</style>\n",
       "<table border=\"1\" class=\"dataframe\">\n",
       "  <thead>\n",
       "    <tr style=\"text-align: right;\">\n",
       "      <th></th>\n",
       "      <th>Stock</th>\n",
       "      <th>Date</th>\n",
       "      <th>Open</th>\n",
       "      <th>High</th>\n",
       "      <th>Low</th>\n",
       "      <th>Close</th>\n",
       "      <th>Volume</th>\n",
       "      <th>Sector</th>\n",
       "    </tr>\n",
       "  </thead>\n",
       "  <tbody>\n",
       "    <tr>\n",
       "      <th>0</th>\n",
       "      <td>ADANIPORTS.NS</td>\n",
       "      <td>2024-01-01</td>\n",
       "      <td>1017.22</td>\n",
       "      <td>1048.33</td>\n",
       "      <td>1013.70</td>\n",
       "      <td>1038.32</td>\n",
       "      <td>3989711</td>\n",
       "      <td>Industrials</td>\n",
       "    </tr>\n",
       "    <tr>\n",
       "      <th>1</th>\n",
       "      <td>ADANIPORTS.NS</td>\n",
       "      <td>2024-01-02</td>\n",
       "      <td>1038.32</td>\n",
       "      <td>1073.05</td>\n",
       "      <td>1021.72</td>\n",
       "      <td>1068.59</td>\n",
       "      <td>6344621</td>\n",
       "      <td>Industrials</td>\n",
       "    </tr>\n",
       "    <tr>\n",
       "      <th>2</th>\n",
       "      <td>ADANIPORTS.NS</td>\n",
       "      <td>2024-01-03</td>\n",
       "      <td>1094.95</td>\n",
       "      <td>1133.60</td>\n",
       "      <td>1053.09</td>\n",
       "      <td>1084.30</td>\n",
       "      <td>33060778</td>\n",
       "      <td>Industrials</td>\n",
       "    </tr>\n",
       "    <tr>\n",
       "      <th>3</th>\n",
       "      <td>ADANIPORTS.NS</td>\n",
       "      <td>2024-01-04</td>\n",
       "      <td>1106.84</td>\n",
       "      <td>1120.72</td>\n",
       "      <td>1093.52</td>\n",
       "      <td>1112.99</td>\n",
       "      <td>9771995</td>\n",
       "      <td>Industrials</td>\n",
       "    </tr>\n",
       "    <tr>\n",
       "      <th>4</th>\n",
       "      <td>ADANIPORTS.NS</td>\n",
       "      <td>2024-01-05</td>\n",
       "      <td>1118.83</td>\n",
       "      <td>1149.45</td>\n",
       "      <td>1115.17</td>\n",
       "      <td>1143.75</td>\n",
       "      <td>10622789</td>\n",
       "      <td>Industrials</td>\n",
       "    </tr>\n",
       "  </tbody>\n",
       "</table>\n",
       "</div>"
      ],
      "text/plain": [
       "           Stock        Date     Open     High      Low    Close    Volume  \\\n",
       "0  ADANIPORTS.NS  2024-01-01  1017.22  1048.33  1013.70  1038.32   3989711   \n",
       "1  ADANIPORTS.NS  2024-01-02  1038.32  1073.05  1021.72  1068.59   6344621   \n",
       "2  ADANIPORTS.NS  2024-01-03  1094.95  1133.60  1053.09  1084.30  33060778   \n",
       "3  ADANIPORTS.NS  2024-01-04  1106.84  1120.72  1093.52  1112.99   9771995   \n",
       "4  ADANIPORTS.NS  2024-01-05  1118.83  1149.45  1115.17  1143.75  10622789   \n",
       "\n",
       "        Sector  \n",
       "0  Industrials  \n",
       "1  Industrials  \n",
       "2  Industrials  \n",
       "3  Industrials  \n",
       "4  Industrials  "
      ]
     },
     "execution_count": 3,
     "metadata": {},
     "output_type": "execute_result"
    }
   ],
   "source": [
    "# Step 2: Load the combined CSV file\n",
    "# Assuming you've run the previous scripts and have the combined CSV file\n",
    "combined_csv_path = \"nifty50_csv_files/nifty50_full_year_2024.csv\"\n",
    "\n",
    "# Load the data\n",
    "df = pd.read_csv(combined_csv_path)\n",
    "\n",
    "# Display basic information about the dataset\n",
    "print(\"Dataset Shape:\", df.shape)\n",
    "print(\"\\nFirst 5 rows:\")\n",
    "df.head()"
   ]
  },
  {
   "cell_type": "code",
   "execution_count": 4,
   "id": "b610dbf3",
   "metadata": {},
   "outputs": [
    {
     "name": "stdout",
     "output_type": "stream",
     "text": [
      "Data types before conversion:\n",
      "Stock      object\n",
      "Date       object\n",
      "Open      float64\n",
      "High      float64\n",
      "Low       float64\n",
      "Close     float64\n",
      "Volume      int64\n",
      "Sector     object\n",
      "dtype: object\n",
      "\n",
      "Data types after conversion:\n",
      "Stock             object\n",
      "Date      datetime64[ns]\n",
      "Open             float64\n",
      "High             float64\n",
      "Low              float64\n",
      "Close            float64\n",
      "Volume             int64\n",
      "Sector            object\n",
      "dtype: object\n"
     ]
    }
   ],
   "source": [
    "# Step 3: Check data types and convert if necessary\n",
    "print(\"Data types before conversion:\")\n",
    "print(df.dtypes)\n",
    "\n",
    "# Convert Date column to datetime\n",
    "df['Date'] = pd.to_datetime(df['Date'])\n",
    "\n",
    "# Ensure numeric columns are properly formatted\n",
    "numeric_columns = ['Open', 'High', 'Low', 'Close', 'Volume']\n",
    "for col in numeric_columns:\n",
    "    df[col] = pd.to_numeric(df[col], errors='coerce')\n",
    "\n",
    "print(\"\\nData types after conversion:\")\n",
    "print(df.dtypes)"
   ]
  },
  {
   "cell_type": "code",
   "execution_count": 5,
   "id": "341e94d6",
   "metadata": {},
   "outputs": [
    {
     "name": "stdout",
     "output_type": "stream",
     "text": [
      "Missing values in each column:\n",
      "Stock     0\n",
      "Date      0\n",
      "Open      0\n",
      "High      0\n",
      "Low       0\n",
      "Close     0\n",
      "Volume    0\n",
      "Sector    0\n",
      "dtype: int64\n"
     ]
    }
   ],
   "source": [
    "# Step 4: Check for missing values\n",
    "print(\"Missing values in each column:\")\n",
    "missing_values = df.isnull().sum()\n",
    "print(missing_values)\n",
    "\n"
   ]
  },
  {
   "cell_type": "code",
   "execution_count": 6,
   "id": "20d70ce9",
   "metadata": {},
   "outputs": [
    {
     "name": "stdout",
     "output_type": "stream",
     "text": [
      "Missing values after cleaning:\n",
      "Stock     0\n",
      "Date      0\n",
      "Open      0\n",
      "High      0\n",
      "Low       0\n",
      "Close     0\n",
      "Volume    0\n",
      "Sector    0\n",
      "dtype: int64\n"
     ]
    },
    {
     "name": "stderr",
     "output_type": "stream",
     "text": [
      "C:\\Users\\Balamurugan\\AppData\\Local\\Temp\\ipykernel_20088\\3987364102.py:6: FutureWarning: DataFrameGroupBy.apply operated on the grouping columns. This behavior is deprecated, and in a future version of pandas the grouping columns will be excluded from the operation. Either pass `include_groups=False` to exclude the groupings or explicitly select the grouping columns after groupby to silence this warning.\n",
      "  df_clean = df_clean.groupby('Stock').apply(\n"
     ]
    }
   ],
   "source": [
    "# Step 5: Handle missing values\n",
    "# For OHLC data, we can forward fill then backward fill\n",
    "df_clean = df.copy()\n",
    "\n",
    "# Group by stock and fill missing values within each stock\n",
    "df_clean = df_clean.groupby('Stock').apply(\n",
    "    lambda group: group.ffill().bfill()\n",
    ").reset_index(drop=True)\n",
    "\n",
    "# Check if any missing values remain\n",
    "print(\"Missing values after cleaning:\")\n",
    "print(df_clean.isnull().sum())"
   ]
  },
  {
   "cell_type": "code",
   "execution_count": 7,
   "id": "3af60945",
   "metadata": {},
   "outputs": [
    {
     "name": "stdout",
     "output_type": "stream",
     "text": [
      "Number of duplicate rows: 0\n",
      "Number of duplicate rows after cleaning: 0\n"
     ]
    }
   ],
   "source": [
    "# Step 6: Check for duplicates\n",
    "print(\"Number of duplicate rows:\", df_clean.duplicated().sum())\n",
    "\n",
    "# Remove duplicates if any\n",
    "df_clean = df_clean.drop_duplicates()\n",
    "\n",
    "print(\"Number of duplicate rows after cleaning:\", df_clean.duplicated().sum())"
   ]
  },
  {
   "cell_type": "code",
   "execution_count": 8,
   "id": "b31fd931",
   "metadata": {},
   "outputs": [
    {
     "name": "stdout",
     "output_type": "stream",
     "text": [
      "Rows with negative Open prices: 0\n",
      "Rows with negative High prices: 0\n",
      "Rows with negative Low prices: 0\n",
      "Rows with negative Close prices: 0\n",
      "Rows with negative Volume: 0\n",
      "Rows where High < Low: 0\n",
      "Rows with inconsistent OHLC values: 0\n"
     ]
    }
   ],
   "source": [
    "# Step 7: Validate data consistency\n",
    "# Check for negative prices or volumes\n",
    "print(\"Rows with negative Open prices:\", (df_clean['Open'] <= 0).sum())\n",
    "print(\"Rows with negative High prices:\", (df_clean['High'] <= 0).sum())\n",
    "print(\"Rows with negative Low prices:\", (df_clean['Low'] <= 0).sum())\n",
    "print(\"Rows with negative Close prices:\", (df_clean['Close'] <= 0).sum())\n",
    "print(\"Rows with negative Volume:\", (df_clean['Volume'] < 0).sum())\n",
    "\n",
    "# Check if High is greater than or equal to Low\n",
    "inconsistent_high_low = (df_clean['High'] < df_clean['Low']).sum()\n",
    "print(\"Rows where High < Low:\", inconsistent_high_low)\n",
    "\n",
    "# Check if Open and Close are between High and Low\n",
    "inconsistent_ohlc = ((df_clean['Open'] > df_clean['High']) | \n",
    "                     (df_clean['Open'] < df_clean['Low']) |\n",
    "                     (df_clean['Close'] > df_clean['High']) | \n",
    "                     (df_clean['Close'] < df_clean['Low'])).sum()\n",
    "print(\"Rows with inconsistent OHLC values:\", inconsistent_ohlc)"
   ]
  },
  {
   "cell_type": "code",
   "execution_count": 9,
   "id": "0ea12bbb",
   "metadata": {},
   "outputs": [
    {
     "name": "stdout",
     "output_type": "stream",
     "text": [
      "         Stock       Date     Open     High      Low    Close    Volume  \\\n",
      "0  ADANIENT.NS 2024-01-01  2849.69  2944.31  2839.45  2914.53   2898619   \n",
      "1  ADANIENT.NS 2024-01-02  2919.33  2945.51  2838.40  2929.72   2671368   \n",
      "2  ADANIENT.NS 2024-01-03  3044.22  3196.08  2952.90  3000.26  19725411   \n",
      "3  ADANIENT.NS 2024-01-04  3036.62  3041.67  2987.27  2995.56   2975620   \n",
      "4  ADANIENT.NS 2024-01-05  3007.20  3064.10  2978.38  3003.85   3219949   \n",
      "\n",
      "   Sector  \n",
      "0  Energy  \n",
      "1  Energy  \n",
      "2  Energy  \n",
      "3  Energy  \n",
      "4  Energy  \n",
      "['Stock', 'Date', 'Open', 'High', 'Low', 'Close', 'Volume', 'Sector']\n"
     ]
    }
   ],
   "source": [
    "import pandas as pd\n",
    "\n",
    "# Example: df_clean already loaded\n",
    "# df_clean = pd.read_csv(\"nifty50_full_year_2024.csv\")\n",
    "\n",
    "# -----------------------------\n",
    "# Step 1: Strip column names to avoid extra spaces\n",
    "# -----------------------------\n",
    "df_clean.columns = df_clean.columns.str.strip()\n",
    "\n",
    "# -----------------------------\n",
    "# Step 2: Ensure 'Date' is datetime\n",
    "# -----------------------------\n",
    "if 'Date' in df_clean.columns:\n",
    "    df_clean['Date'] = pd.to_datetime(df_clean['Date'], errors='coerce')\n",
    "else:\n",
    "    raise KeyError(\"No 'Date' column found in df_clean!\")\n",
    "\n",
    "# -----------------------------\n",
    "# Step 3: Sort by Stock and Date\n",
    "# -----------------------------\n",
    "df_clean = df_clean.sort_values(['Stock', 'Date'])\n",
    "\n",
    "# -----------------------------\n",
    "# Step 4: Calculate Daily Return (to demonstrate how to remove it)\n",
    "# -----------------------------\n",
    "df_clean['Daily_Return'] = df_clean.groupby('Stock')['Close'].pct_change()\n",
    "\n",
    "# -----------------------------\n",
    "# Step 5: Remove the Daily_Return column\n",
    "# -----------------------------\n",
    "if 'Daily_Return' in df_clean.columns:\n",
    "    df_clean = df_clean.drop('Daily_Return', axis=1)\n",
    "\n",
    "# -----------------------------\n",
    "# Step 6: Check final DataFrame\n",
    "# -----------------------------\n",
    "print(df_clean.head())\n",
    "print(df_clean.columns.tolist())"
   ]
  },
  {
   "cell_type": "code",
   "execution_count": 10,
   "id": "4eeae19a",
   "metadata": {},
   "outputs": [
    {
     "name": "stdout",
     "output_type": "stream",
     "text": [
      "Cleaned data saved to: D:\\python_programs\\NIFTY_50 STOCKS_ANALYSIS\\nifty50_cleaned_data\\nifty50_cleaned_2024.csv\n",
      "Final dataset shape: (12300, 8)\n"
     ]
    }
   ],
   "source": [
    "# Step 13: Save the cleaned data\n",
    "# Create a new directory for cleaned data\n",
    "os.makedirs('nifty50_cleaned_data', exist_ok=True)\n",
    "\n",
    "# Save the cleaned dataframe\n",
    "cleaned_csv_path = r\"D:\\python_programs\\NIFTY_50 STOCKS_ANALYSIS\\nifty50_cleaned_data\\nifty50_cleaned_2024.csv\"\n",
    "df_clean.to_csv(cleaned_csv_path, index=False)\n",
    "\n",
    "print(f\"Cleaned data saved to: {cleaned_csv_path}\")\n",
    "print(f\"Final dataset shape: {df_clean.shape}\")"
   ]
  },
  {
   "cell_type": "code",
   "execution_count": 11,
   "id": "f9f74578",
   "metadata": {},
   "outputs": [],
   "source": [
    "# Import MySQL libraries\n",
    "import sqlalchemy\n",
    "from sqlalchemy import create_engine, text\n",
    "import mysql.connector\n"
   ]
  },
  {
   "cell_type": "code",
   "execution_count": 12,
   "id": "fd185507",
   "metadata": {},
   "outputs": [
    {
     "name": "stdout",
     "output_type": "stream",
     "text": [
      "✅ Database nifty50_project created successfully!\n"
     ]
    }
   ],
   "source": [
    "\n",
    "\n",
    "db_config = {\n",
    "    \"host\": \"gateway01.ap-southeast-1.prod.aws.tidbcloud.com\",\n",
    "    \"port\": 4000,\n",
    "    \"user\": \"2JRRhPHCS6mRsGW.root\",\n",
    "    \"password\": \"48euDwRpY6OmYT5A\",\n",
    "    \"ssl_ca\": r\"D:\\path\\to\\ca.pem\"  # replace with your CA cert path\n",
    "}\n",
    "\n",
    "# Connect without specifying database\n",
    "conn = mysql.connector.connect(**db_config)\n",
    "cursor = conn.cursor()\n",
    "\n",
    "# Create new database\n",
    "cursor.execute(\"CREATE DATABASE IF NOT EXISTS nifty50_project;\")\n",
    "\n",
    "print(\"✅ Database nifty50_project created successfully!\")\n",
    "\n",
    "cursor.close()\n",
    "conn.close()\n"
   ]
  },
  {
   "cell_type": "code",
   "execution_count": 13,
   "id": "610cf6c2",
   "metadata": {},
   "outputs": [
    {
     "name": "stdout",
     "output_type": "stream",
     "text": [
      "✅ df_clean saved into MySQL table 'nifty50_data' successfully!\n"
     ]
    }
   ],
   "source": [
    "from sqlalchemy import create_engine\n",
    "\n",
    "# --- Use your existing db_config ---\n",
    "db_config = {\n",
    "    \"host\": \"gateway01.ap-southeast-1.prod.aws.tidbcloud.com\",\n",
    "    \"port\": 4000,\n",
    "    \"user\": \"2JRRhPHCS6mRsGW.root\",\n",
    "    \"password\": \"48euDwRpY6OmYT5A\",\n",
    "    \"database\": \"nifty50_project\",\n",
    "    \"ssl_ca\": r\"D:\\path\\to\\ca.pem\"\n",
    "}\n",
    "\n",
    "# --- Build connection string ---\n",
    "conn_str = (\n",
    "    f\"mysql+mysqlconnector://{db_config['user']}:{db_config['password']}\"\n",
    "    f\"@{db_config['host']}:{db_config['port']}/{db_config['database']}\"\n",
    "    f\"?ssl_ca={db_config['ssl_ca']}\"\n",
    ")\n",
    "\n",
    "engine = create_engine(conn_str)\n",
    "\n",
    "# --- Save cleaned DataFrame into MySQL ---\n",
    "df_clean.to_sql(\n",
    "    name=\"nifty50_data\",\n",
    "    con=engine,\n",
    "    if_exists=\"replace\",   # replaces old table with new schema\n",
    "    index=False\n",
    ")\n",
    "\n",
    "\n",
    "\n",
    "print(\"✅ df_clean saved into MySQL table 'nifty50_data' successfully!\")\n"
   ]
  },
  {
   "cell_type": "code",
   "execution_count": 14,
   "id": "312c01af",
   "metadata": {},
   "outputs": [
    {
     "name": "stdout",
     "output_type": "stream",
     "text": [
      "Total rows: 12300\n"
     ]
    }
   ],
   "source": [
    "row_count = pd.read_sql(\"SELECT COUNT(*) AS total FROM nifty50_data\", con=engine)\n",
    "print(\"Total rows:\", row_count[\"total\"][0])\n"
   ]
  },
  {
   "cell_type": "code",
   "execution_count": 15,
   "id": "d6d74bb4",
   "metadata": {},
   "outputs": [
    {
     "name": "stdout",
     "output_type": "stream",
     "text": [
      "            stock\n",
      "0   TATACONSUM.NS\n",
      "1     AXISBANK.NS\n",
      "2       MARUTI.NS\n",
      "3        CIPLA.NS\n",
      "4    EICHERMOT.NS\n",
      "5     HDFCLIFE.NS\n",
      "6   BHARTIARTL.NS\n",
      "7        TITAN.NS\n",
      "8         NTPC.NS\n",
      "9      SBILIFE.NS\n",
      "10  BAJFINANCE.NS\n",
      "11  ULTRACEMCO.NS\n",
      "12        SBIN.NS\n",
      "13    ADANIENT.NS\n",
      "14         UPL.NS\n",
      "15   POWERGRID.NS\n",
      "16         BEL.NS\n",
      "17       TECHM.NS\n",
      "18  ADANIPORTS.NS\n",
      "19     HCLTECH.NS\n",
      "20  HEROMOTOCO.NS\n",
      "21        INFY.NS\n",
      "22    DIVISLAB.NS\n",
      "23    HINDALCO.NS\n",
      "24  APOLLOHOSP.NS\n",
      "25         ITC.NS\n",
      "26  BAJAJ-AUTO.NS\n",
      "27   SUNPHARMA.NS\n",
      "28        LTIM.NS\n",
      "29   BRITANNIA.NS\n",
      "30         M&M.NS\n",
      "31    HDFCBANK.NS\n",
      "32         TCS.NS\n",
      "33    RELIANCE.NS\n",
      "34   TATASTEEL.NS\n",
      "35   NESTLEIND.NS\n",
      "36    JSWSTEEL.NS\n",
      "37   ICICIBANK.NS\n",
      "38      GRASIM.NS\n",
      "39        ZEEL.NS\n",
      "40          LT.NS\n",
      "41   COALINDIA.NS\n",
      "42  INDUSINDBK.NS\n",
      "43     DRREDDY.NS\n",
      "44  ASIANPAINT.NS\n",
      "45       WIPRO.NS\n",
      "46        ONGC.NS\n",
      "47  TATAMOTORS.NS\n",
      "48   KOTAKBANK.NS\n",
      "49  BAJAJFINSV.NS\n"
     ]
    }
   ],
   "source": [
    "df_symbols = pd.read_sql(\"SELECT DISTINCT stock FROM nifty50_data\", con=engine)\n",
    "print(df_symbols)\n"
   ]
  },
  {
   "cell_type": "code",
   "execution_count": 16,
   "id": "06d0be00",
   "metadata": {},
   "outputs": [
    {
     "name": "stdout",
     "output_type": "stream",
     "text": [
      "             Stock       Date     Open     High      Low    Close    Volume  \\\n",
      "0      ADANIENT.NS 2024-01-01  2849.69  2944.31  2839.45  2914.53   2898619   \n",
      "1      ADANIENT.NS 2024-01-02  2919.33  2945.51  2838.40  2929.72   2671368   \n",
      "2      ADANIENT.NS 2024-01-03  3044.22  3196.08  2952.90  3000.26  19725411   \n",
      "3      ADANIENT.NS 2024-01-04  3036.62  3041.67  2987.27  2995.56   2975620   \n",
      "4      ADANIENT.NS 2024-01-05  3007.20  3064.10  2978.38  3003.85   3219949   \n",
      "...            ...        ...      ...      ...      ...      ...       ...   \n",
      "12295      ZEEL.NS 2024-12-24   123.17   124.93   123.14   123.55   4459275   \n",
      "12296      ZEEL.NS 2024-12-26   123.81   124.26   121.84   122.28   3910967   \n",
      "12297      ZEEL.NS 2024-12-27   121.95   123.09   121.55   122.15   2498981   \n",
      "12298      ZEEL.NS 2024-12-30   121.42   122.25   119.11   119.59   4421171   \n",
      "12299      ZEEL.NS 2024-12-31   118.71   119.86   117.55   118.80   4445600   \n",
      "\n",
      "                       Sector  \n",
      "0                      Energy  \n",
      "1                      Energy  \n",
      "2                      Energy  \n",
      "3                      Energy  \n",
      "4                      Energy  \n",
      "...                       ...  \n",
      "12295  Communication Services  \n",
      "12296  Communication Services  \n",
      "12297  Communication Services  \n",
      "12298  Communication Services  \n",
      "12299  Communication Services  \n",
      "\n",
      "[12300 rows x 8 columns]\n"
     ]
    }
   ],
   "source": [
    "print(df_clean)"
   ]
  },
  {
   "cell_type": "code",
   "execution_count": null,
   "id": "ef82baf2",
   "metadata": {},
   "outputs": [],
   "source": []
  }
 ],
 "metadata": {
  "kernelspec": {
   "display_name": "myenvimport",
   "language": "python",
   "name": "python3"
  },
  "language_info": {
   "codemirror_mode": {
    "name": "ipython",
    "version": 3
   },
   "file_extension": ".py",
   "mimetype": "text/x-python",
   "name": "python",
   "nbconvert_exporter": "python",
   "pygments_lexer": "ipython3",
   "version": "3.13.7"
  }
 },
 "nbformat": 4,
 "nbformat_minor": 5
}
